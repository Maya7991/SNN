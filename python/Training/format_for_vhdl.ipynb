{
 "cells": [
  {
   "cell_type": "markdown",
   "metadata": {
    "id": "6C2-eth4-la3"
   },
   "source": [
    "### Merge channels and Timesteps\n",
    "Format the scheduled spikes appropriately, such that the VHDL testbench can read data"
   ]
  },
  {
   "cell_type": "code",
   "execution_count": null,
   "metadata": {
    "colab": {
     "base_uri": "https://localhost:8080/"
    },
    "id": "PR0GVLME-ewD",
    "outputId": "eeee1e7f-916f-4a6c-b951-872847d5ed0a"
   },
   "outputs": [
    {
     "name": "stdout",
     "output_type": "stream",
     "text": [
      "Mounted at /content/drive\n"
     ]
    }
   ],
   "source": [
    "import os\n",
    "import numpy as np\n",
    "from google.colab import drive\n",
    "drive.mount('/content/drive')"
   ]
  },
  {
   "cell_type": "code",
   "execution_count": null,
   "metadata": {
    "id": "1aHJZmek-mlI"
   },
   "outputs": [],
   "source": [
    "def read_file(filename):\n",
    "    with open(filename, 'r') as file:\n",
    "        data = file.readlines()\n",
    "    return data\n",
    "\n",
    "\n",
    "# Parse the data into a dictionary of channels\n",
    "def parse_data(data):\n",
    "    channels = {}\n",
    "    current_channel = None\n",
    "\n",
    "    for line in data:\n",
    "        if line.startswith(\"Channel\"):\n",
    "            current_channel = int(line.split()[1].strip(':'))\n",
    "            channels[current_channel] = []\n",
    "        elif current_channel is not None:\n",
    "            spikes = list(map(int, line.split()))\n",
    "            channels[current_channel].append(spikes)\n",
    "\n",
    "    return channels\n",
    "\n",
    "\n",
    "# Transform the data into the desired format\n",
    "def transform_data(channels):\n",
    "    transformed = []\n",
    "    num_channels = len(channels)\n",
    "    num_cycles = len(channels[0])\n",
    "\n",
    "    for i in range(num_cycles):\n",
    "        for j in range(len(channels[0][i])):\n",
    "            row = []\n",
    "            for ch in range(num_channels):\n",
    "                row.append(channels[ch][i][j])\n",
    "            transformed.append(row)\n",
    "\n",
    "    return transformed\n",
    "\n",
    "def write_file(filename, data):\n",
    "    with open(filename, 'w') as file:\n",
    "        for row in data:\n",
    "            file.write(''.join(map(str, row)) + '\\n')\n",
    "\n",
    "# Function to write the data to an output file\n",
    "def write_combined_timestep_data(combined_data, output_filename):\n",
    "    with open(output_filename, 'w') as file:\n",
    "        num_cycles = len(combined_data[0])\n",
    "        num_time_steps = len(combined_data)\n",
    "\n",
    "        for cycle in range(num_cycles // 9):\n",
    "            for timestep in range(num_time_steps):\n",
    "                start_line = cycle * 9\n",
    "                end_line = start_line + 9\n",
    "                for row in combined_data[timestep][start_line:end_line]:\n",
    "                    file.write(''.join(map(str, row)) + '\\n')\n",
    "                # file.write('\\n')\n"
   ]
  },
  {
   "cell_type": "code",
   "execution_count": null,
   "metadata": {
    "id": "DCf0MwbmAPvu"
   },
   "outputs": [],
   "source": [
    "base_path = '/content/drive/My Drive/project_aug/v4'\n",
    "timesteps = 3\n",
    "\n",
    "combined_data = []\n",
    "combined_filename = base_path + '/input_output_v5/insp_8b_tsmerged_vhdl.txt'\n",
    "\n",
    "for timestep in range(timesteps):\n",
    "  input_filename = base_path + f'/input_output_v5/inspk_8b_schedld{timestep}.txt'\n",
    "  output_filename = base_path + f'/input_output_v5/inspk_8b_vhdl{timestep}.txt'\n",
    "\n",
    "  data = read_file(input_filename)\n",
    "  channels = parse_data(data)\n",
    "  transformed_data = transform_data(channels)\n",
    "  combined_data.append(transformed_data)\n",
    "  # Write the transformed data to indvidual files\n",
    "  write_file(output_filename, transformed_data)\n",
    "\n",
    "write_combined_timestep_data(combined_data, combined_filename)"
   ]
  },
  {
   "cell_type": "code",
   "execution_count": null,
   "metadata": {
    "id": "eDa8CRcxCqSu"
   },
   "outputs": [],
   "source": []
  }
 ],
 "metadata": {
  "colab": {
   "provenance": []
  },
  "kernelspec": {
   "display_name": "Python 3",
   "name": "python3"
  },
  "language_info": {
   "name": "python"
  }
 },
 "nbformat": 4,
 "nbformat_minor": 0
}
