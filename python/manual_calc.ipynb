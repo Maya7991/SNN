{
 "cells": [
  {
   "cell_type": "code",
   "execution_count": 15,
   "id": "1a84b2b8",
   "metadata": {},
   "outputs": [],
   "source": [
    "import numpy as np\n",
    "import random\n",
    "import os"
   ]
  },
  {
   "cell_type": "code",
   "execution_count": 35,
   "id": "0004d812",
   "metadata": {},
   "outputs": [],
   "source": [
    "def apply_lif_neurons(input_data, weights, threshold= 1.0, beta=1, reset_value=0.0):\n",
    "    # Assuming input_data shape is (time, channels, height, width)\n",
    "    time_steps = input_data.shape[0]\n",
    "\n",
    "    # Determine output shape after convolution\n",
    "    output_shape = (time_steps, weights.shape[0],  # (time, output_channels, height, width)\n",
    "                    input_data.shape[2] - weights.shape[2] + 1,\n",
    "                    input_data.shape[3] - weights.shape[3] + 1)\n",
    "\n",
    "    # Initialize output spikes\n",
    "    output_spikes = np.zeros(output_shape)  # Shape: (time, output_channels, height, width)\n",
    "\n",
    "    # Initialize membrane potential for this timestep\n",
    "    membrane_potential = np.zeros((time_steps, weights.shape[0], output_shape[2], output_shape[3]))  # Shape: (output_channels, height, width)\n",
    "\n",
    "    # Perform convolution for the current timestep\n",
    "    for out_channel in range(output_shape[1]):\n",
    "        for i in range(output_shape[2]):\n",
    "            for j in range(output_shape[3]):\n",
    "              for t in range(time_steps):\n",
    "                # Calculate convolution output at this stride\n",
    "                conv_output = np.sum(input_data[t, :, i:i+weights.shape[2], j:j+weights.shape[3]] * weights[out_channel])\n",
    "\n",
    "                # Update membrane potential with leaky integration\n",
    "                if t == 0:\n",
    "                  membrane_potential[t, out_channel, i, j] = beta * membrane_potential[t, out_channel, i, j] + conv_output\n",
    "                else:\n",
    "                  membrane_potential[t, out_channel, i, j] = beta * membrane_potential[t-1, out_channel, i, j] + conv_output\n",
    "\n",
    "                # Generate spike if membrane potential exceeds threshold\n",
    "                if membrane_potential[t, out_channel, i, j] >= threshold:\n",
    "                    output_spikes[t, out_channel, i, j] = 1\n",
    "                    # Reset membrane potential where spike occurred\n",
    "                    # membrane_potential[t,out_channel, i, j] = membrane_potential[t,out_channel, i, j]-threshold\n",
    "                    membrane_potential[t,out_channel, i, j] = reset_value\n",
    "\n",
    "    return output_spikes, membrane_potential\n"
   ]
  },
  {
   "cell_type": "code",
   "execution_count": 56,
   "id": "43c262a9",
   "metadata": {},
   "outputs": [],
   "source": [
    "def conv_results(row, col, channel, ts):\n",
    "    result = []\n",
    "    int_result = []  # To store cumulative sums\n",
    "    \n",
    "    for step in range(ts):\n",
    "        conv_output = input_data[step, :, row:row+quant_weight_int.shape[2], col:col+quant_weight_int.shape[3]] * quant_weight_int[channel]\n",
    "        print(np.sum(conv_output))\n",
    "        result.append(np.sum(conv_output))\n",
    "#         print(conv_output)\n",
    "\n",
    "         # Calculate the cumulative sum\n",
    "        if step != 0:\n",
    "            int_result.append(result[step] + int_result[step-1])\n",
    "        else:\n",
    "            int_result.append(result[step])\n",
    "    \n",
    "    return int_result"
   ]
  },
  {
   "cell_type": "code",
   "execution_count": 37,
   "id": "9d1c2b26",
   "metadata": {
    "scrolled": false
   },
   "outputs": [],
   "source": [
    "base_path = 'C:/Users/mayaa/OneDrive/Documents/Master_project/vhdl_may'\n",
    "quant_weight_int = np.load(base_path + '/current_test/npy/quant_weight_int.npy')\n",
    "\n",
    "timesteps = 3\n",
    "sample_input = np.load(base_path + '/current_test/npy/in_spk_8b0.npy')\n",
    "channels, rows, cols = sample_input.shape\n",
    "input_data = np.empty((timesteps, channels, rows, cols))\n",
    "\n",
    "for step in range(timesteps):\n",
    "    input_data[step] = np.load(base_path + f'/current_test/npy/in_spk_8b{step}.npy')\n",
    "    \n",
    "output_spikes, membrane_potential = apply_lif_neurons(input_data, quant_weight_int, threshold= 101)"
   ]
  },
  {
   "cell_type": "code",
   "execution_count": 64,
   "id": "c41468fa",
   "metadata": {},
   "outputs": [
    {
     "name": "stdout",
     "output_type": "stream",
     "text": [
      "13.0\n",
      "40.0\n",
      "50.0\n",
      "Integrated over timesteps [13.0, 53.0, 103.0]\n"
     ]
    }
   ],
   "source": [
    "result = []\n",
    "int_result = []\n",
    "\n",
    "int_result = conv_results(row=2, col=2, channel=2, ts=3)\n",
    "print(f'Integrated over timesteps {int_result}')"
   ]
  },
  {
   "cell_type": "code",
   "execution_count": null,
   "id": "385bed2c",
   "metadata": {},
   "outputs": [],
   "source": []
  }
 ],
 "metadata": {
  "kernelspec": {
   "display_name": "Python 3 (ipykernel)",
   "language": "python",
   "name": "python3"
  },
  "language_info": {
   "codemirror_mode": {
    "name": "ipython",
    "version": 3
   },
   "file_extension": ".py",
   "mimetype": "text/x-python",
   "name": "python",
   "nbconvert_exporter": "python",
   "pygments_lexer": "ipython3",
   "version": "3.11.5"
  }
 },
 "nbformat": 4,
 "nbformat_minor": 5
}
