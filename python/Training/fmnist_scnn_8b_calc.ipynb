{
  "nbformat": 4,
  "nbformat_minor": 0,
  "metadata": {
    "colab": {
      "provenance": [],
      "collapsed_sections": [
        "PDxuMGVpf3mF",
        "a0wG6VIS_Fbx",
        "OLy-m7UEoHTd",
        "UynZO14iMPBf"
      ]
    },
    "kernelspec": {
      "name": "python3",
      "display_name": "Python 3"
    },
    "language_info": {
      "name": "python"
    }
  },
  "cells": [
    {
      "cell_type": "markdown",
      "source": [
        "# Part 1"
      ],
      "metadata": {
        "id": "IsLRbiftmGU0"
      }
    },
    {
      "cell_type": "markdown",
      "source": [
        "## Imports"
      ],
      "metadata": {
        "id": "BsEWWyamc8ll"
      }
    },
    {
      "cell_type": "code",
      "source": [
        "!pip install jedi --quiet\n",
        "!pip install snntorch --quiet\n",
        "!pip install brevitas --quiet"
      ],
      "metadata": {
        "id": "Xil35Lt5gGc8"
      },
      "execution_count": null,
      "outputs": []
    },
    {
      "cell_type": "code",
      "source": [
        "import snntorch as snn\n",
        "from snntorch import surrogate\n",
        "from snntorch import functional as SF\n",
        "from snntorch import utils\n",
        "from snntorch import spikegen\n",
        "from snntorch import spikeplot as splt\n",
        "from snntorch.functional import quant\n",
        "\n",
        "import brevitas.nn as qnn\n",
        "\n",
        "import torch\n",
        "from torchvision import transforms,datasets\n",
        "import torch.nn as nn\n",
        "import torch.nn.functional as F\n",
        "\n",
        "import matplotlib.pyplot as plt\n",
        "import numpy as np\n",
        "import random\n",
        "import os"
      ],
      "metadata": {
        "id": "JKo1-vkjc769"
      },
      "execution_count": null,
      "outputs": []
    },
    {
      "cell_type": "code",
      "execution_count": null,
      "metadata": {
        "id": "8nkYcnjA-iOj"
      },
      "outputs": [],
      "source": [
        "base_path = '/content/drive/My Drive/project_aug/v4'"
      ]
    },
    {
      "cell_type": "code",
      "source": [
        "from google.colab import drive\n",
        "drive.mount('/content/drive')"
      ],
      "metadata": {
        "colab": {
          "base_uri": "https://localhost:8080/"
        },
        "id": "QzPwd3GRcmcD",
        "outputId": "c7f34dcb-183c-477f-970f-e03cd0cb7c15"
      },
      "execution_count": null,
      "outputs": [
        {
          "output_type": "stream",
          "name": "stdout",
          "text": [
            "Drive already mounted at /content/drive; to attempt to forcibly remount, call drive.mount(\"/content/drive\", force_remount=True).\n"
          ]
        }
      ]
    },
    {
      "cell_type": "code",
      "source": [
        "transform = transforms.Compose([\n",
        "            transforms.Resize((14,14)),\n",
        "            transforms.Grayscale(),\n",
        "            transforms.ToTensor(),\n",
        "            transforms.Normalize((0,), (1,))])\n",
        "\n",
        "test_data = datasets.FashionMNIST('data', train=False, download=True, transform=transform)\n",
        "\n",
        "num_workers=0\n",
        "batch_size=50\n",
        "test_loader=torch.utils.data.DataLoader(test_data,batch_size=batch_size,num_workers=num_workers)\n",
        "\n",
        "print(f\"Test data size : {test_loader.dataset.__len__()}\")"
      ],
      "metadata": {
        "colab": {
          "base_uri": "https://localhost:8080/"
        },
        "id": "r_RqUkEwcvH7",
        "outputId": "8a287775-def7-4085-fcc8-12307327ee1a"
      },
      "execution_count": null,
      "outputs": [
        {
          "output_type": "stream",
          "name": "stdout",
          "text": [
            "Test data size : 10000\n"
          ]
        }
      ]
    },
    {
      "cell_type": "markdown",
      "source": [
        "## Architecture"
      ],
      "metadata": {
        "id": "PDxuMGVpf3mF"
      }
    },
    {
      "cell_type": "code",
      "execution_count": null,
      "metadata": {
        "id": "0siXDqyDAvTU"
      },
      "outputs": [],
      "source": [
        "# neuron and simulation parameters\n",
        "spike_grad = surrogate.fast_sigmoid(slope=25)\n",
        "beta = 1"
      ]
    },
    {
      "cell_type": "code",
      "execution_count": null,
      "metadata": {
        "id": "rd7wIS9yArKb"
      },
      "outputs": [],
      "source": [
        "class ConvNet(nn.Module):\n",
        "  def __init__(self, in_channels, out_channels, kernal_size, padding, use_pool=False):\n",
        "    super(ConvNet,self).__init__()\n",
        "    # self.conv=nn.Conv2d(in_channels,out_channels,kernal_size,padding=padding)\n",
        "    self.conv = qnn.QuantConv2d(in_channels, out_channels, kernal_size, padding=padding, bias=False, weight_bit_width=8)\n",
        "    self.use_pool = use_pool\n",
        "    self.pool=nn.MaxPool2d(kernel_size=2,stride=2)\n",
        "    self.activation= nn.ReLU()\n",
        "\n",
        "  def forward(self,data):\n",
        "    if self.use_pool:\n",
        "      return self.activation(self.pool(self.conv(data)));\n",
        "    else:\n",
        "      return self.activation(self.conv(data));\n"
      ]
    },
    {
      "cell_type": "code",
      "execution_count": null,
      "metadata": {
        "id": "tUSR6JaYAtpu"
      },
      "outputs": [],
      "source": [
        "class SnnNet(nn.Module):\n",
        "  def __init__(self,num_steps,in_channels=8,out_channels=16, use_pool=False):\n",
        "    super(SnnNet,self).__init__()\n",
        "    self.use_pool = use_pool\n",
        "    self.num_steps = num_steps\n",
        "\n",
        "    qlif = quant.state_quant(num_bits=8, uniform=False, thr_centered=True)\n",
        "\n",
        "    # self.conv = nn.Conv2d(in_channels,out_channels,kernel_size=3,padding=1,stride=1)\n",
        "    self.conv = qnn.QuantConv2d(in_channels, out_channels, kernel_size=3,padding=0,stride=1, bias=False, weight_bit_width=8)\n",
        "    # self.lif1 = snn.Leaky(beta=beta, state_quant=qlif)\n",
        "    self.pool = nn.MaxPool2d(kernel_size=2,stride=2)\n",
        "    self.activation = snn.Leaky(beta=beta, spike_grad=spike_grad, state_quant=qlif, reset_mechanism = \"zero\")\n",
        "\n",
        "  def forward(self,data):\n",
        "    self.activation.reset_mem()\n",
        "    out = []\n",
        "    mems_out = []\n",
        "    for step in range(self.num_steps):\n",
        "      output = self.conv(data[step])\n",
        "      spike_out, mem_out = self.activation(output)\n",
        "\n",
        "      if self.use_pool:\n",
        "        spike_out = self.pool(spike_out);\n",
        "        mem_out = self.pool(mem_out);\n",
        "\n",
        "      out.append(spike_out)\n",
        "      mems_out.append(mem_out)\n",
        "\n",
        "    return torch.stack(out,dim=0), torch.stack(mems_out,dim=0)\n",
        "    # return torch.sum(snn_out, dim=0)\n"
      ]
    },
    {
      "cell_type": "code",
      "execution_count": null,
      "metadata": {
        "id": "B93al9zhBCHD"
      },
      "outputs": [],
      "source": [
        "class Net(nn.Module):\n",
        "  def __init__(self,num_steps=0, use_spike=False):\n",
        "    super(Net,self).__init__()\n",
        "    self.use_spike = use_spike\n",
        "    self.num_steps = num_steps\n",
        "    self.mainArch = self.createNet()\n",
        "    self.fcs = self.createfcs()\n",
        "    self.layer1_output = None\n",
        "    self.spike_encoded_input = None\n",
        "    self.layer2_output_spk = None\n",
        "    self.layer2_output_mem = None\n",
        "    self.layer2_output = None\n",
        "    self.spike_output = None\n",
        "\n",
        "  def createNet(self):\n",
        "    layers = [ConvNet(1,8,5,0, True)]\n",
        "    if self.use_spike:\n",
        "      layers.append(SnnNet(num_steps=self.num_steps,use_pool=False))\n",
        "    else:\n",
        "      layers.append(ConvNet(8,16,3,0,use_pool=False))\n",
        "\n",
        "    layers.append(ConvNet(16,16,1,0, False))\n",
        "    return nn.Sequential(*layers)\n",
        "\n",
        "  def createfcs(self):\n",
        "    return nn.Sequential(\n",
        "        nn.Dropout(0.2),\n",
        "        qnn.QuantLinear(3*3*16,512, bias=True, weight_bit_width=8),\n",
        "        nn.ReLU(),\n",
        "        nn.Dropout(0.2),\n",
        "        qnn.QuantLinear(512,256, bias=True, weight_bit_width=8),\n",
        "        nn.ReLU(),\n",
        "        nn.Dropout(0.2),\n",
        "        qnn.QuantLinear(256,10, bias=True, weight_bit_width=8)\n",
        "    )\n",
        "\n",
        "  def forward(self, data):\n",
        "    x= data\n",
        "    self.layer1_output = self.mainArch[0](x)\n",
        "    if self.use_spike:   # Spike encoding on the output of the first layer\n",
        "      self.spike_encoded_input = spikegen.rate(self.layer1_output, self.num_steps)\n",
        "      self.layer2_output, self.layer2_output_mem = self.mainArch[1](self.spike_encoded_input)\n",
        "      self.spike_output = self.layer2_output\n",
        "      self.layer2_output = torch.sum(self.layer2_output, dim=0)\n",
        "    else:\n",
        "      self.layer2_output = self.mainArch[1](self.layer1_output)\n",
        "    x = self.mainArch[2](self.layer2_output)\n",
        "    x = x.view(-1, 3 * 3 * 16)\n",
        "    return self.fcs(x)\n"
      ]
    },
    {
      "cell_type": "markdown",
      "source": [
        "## Load the model"
      ],
      "metadata": {
        "id": "a0wG6VIS_Fbx"
      }
    },
    {
      "cell_type": "code",
      "source": [
        "scnn_model = Net(num_steps=3,use_spike=True)"
      ],
      "metadata": {
        "id": "jKEPGhnJfvIH"
      },
      "execution_count": null,
      "outputs": []
    },
    {
      "cell_type": "code",
      "source": [
        "scnn_model_path = base_path + '/model/Net_scnn_frz2_quant8b_model.pth'\n",
        "scnn_state_dict = torch.load(scnn_model_path, map_location=torch.device('cpu'))\n",
        "scnn_model.load_state_dict(scnn_state_dict, False)\n",
        "scnn_model.eval()\n",
        "print()"
      ],
      "metadata": {
        "colab": {
          "base_uri": "https://localhost:8080/"
        },
        "id": "llN9FeAt--hD",
        "outputId": "d348b8ee-ed52-4727-c59b-2d49016e4919"
      },
      "execution_count": null,
      "outputs": [
        {
          "output_type": "stream",
          "name": "stdout",
          "text": [
            "\n"
          ]
        }
      ]
    },
    {
      "cell_type": "markdown",
      "source": [
        "## Pick an Image\n",
        "\n"
      ],
      "metadata": {
        "id": "yTzpNNH0E2-p"
      }
    },
    {
      "cell_type": "markdown",
      "source": [
        "```\n",
        "\n",
        "    Get a random image by its label from the test loader.\n",
        "\n",
        "    Parameters:\n",
        "    - loader (DataLoader): The DataLoader from which to fetch the image.\n",
        "    - label (int): The label of the image to fetch.\n",
        "\n",
        "    Returns:\n",
        "    - image (Tensor): The image tensor.\n",
        "```"
      ],
      "metadata": {
        "id": "pmXEloVkJDjF"
      }
    },
    {
      "cell_type": "code",
      "source": [
        "fashion_class={\n",
        "    0:\"T-shirt/top\",\n",
        "    1:\"Trouser\",\n",
        "    2:\"Pullover\",\n",
        "    3:\"Dress\",\n",
        "    4:\"Coat\",\n",
        "    5:\"Sandal\",\n",
        "    6:\"Shirt\",\n",
        "    7:\"Sneaker\",\n",
        "    8:\"Bag\",\n",
        "    9:\"Ankle boot\"\n",
        "}\n",
        "\n",
        "def get_random_image_by_label(loader, label):\n",
        "\n",
        "    images = []\n",
        "    labels = []\n",
        "\n",
        "    # Collect all images with the specified label\n",
        "    for batch_images, batch_labels in loader:\n",
        "        for img, lbl in zip(batch_images, batch_labels):\n",
        "            if lbl == label:\n",
        "                images.append(img)\n",
        "                labels.append(lbl)\n",
        "\n",
        "    if not images:\n",
        "        raise ValueError(f\"No images found with label {label}\")\n",
        "\n",
        "    # Choose a random image\n",
        "    idx = random.randint(0, len(images) - 1)\n",
        "    selected_image = images[idx]\n",
        "\n",
        "    # Display the image\n",
        "    plt.imshow(selected_image.squeeze(), cmap=\"gray\")\n",
        "    plt.title(f\"Label: {label}, {fashion_class[label]}\")\n",
        "    plt.show()\n",
        "\n",
        "    return selected_image, idx\n"
      ],
      "metadata": {
        "id": "CNkoH3UHE2sa"
      },
      "execution_count": null,
      "outputs": []
    },
    {
      "cell_type": "markdown",
      "source": [
        "## Inference pass\n",
        "\n",
        "Might not be able to extract INT weights here. so extract fp32 non-qunatized weights"
      ],
      "metadata": {
        "id": "x0A8-rm3GQqR"
      }
    },
    {
      "cell_type": "code",
      "source": [
        "random_image, idx = get_random_image_by_label(test_loader, 2)\n",
        "\n",
        "scnn_model.eval()\n",
        "with torch.no_grad():\n",
        "  spk_rec  = scnn_model(random_image)       # Pass the random image to the model\n",
        "\n",
        "predicted = spk_rec[-1].max(0, keepdim=True)[1]\n",
        "\n",
        "\n",
        "\n",
        "layer1_output = scnn_model.layer1_output\n",
        "spike_encoded_input = scnn_model.spike_encoded_input\n",
        "spike_output = scnn_model.spike_output\n",
        "spike_encoded_input.shape\n",
        "\n",
        "np.save(base_path + '/input_output/in_spk_' + str(idx)+ '.npy', random_image.numpy())\n",
        "# np.save(base_path + '/input_output/in_spk.npy', spike_encoded_output.numpy())\n",
        "# np.save(base_path + '/input_output/out_spk.npy', layer2_output.numpy())"
      ],
      "metadata": {
        "colab": {
          "base_uri": "https://localhost:8080/",
          "height": 452
        },
        "id": "gwdWMrtWGTQp",
        "outputId": "d53a79cc-c6c6-469f-8b82-f59a1a945883"
      },
      "execution_count": null,
      "outputs": [
        {
          "output_type": "display_data",
          "data": {
            "text/plain": [
              "<Figure size 640x480 with 1 Axes>"
            ],
            "image/png": "[encoded data removed]"
          },
          "metadata": {}
        }
      ]
    },
    {
      "cell_type": "code",
      "source": [
        "print(f\"Predicted class: {predicted}\")"
      ],
      "metadata": {
        "colab": {
          "base_uri": "https://localhost:8080/"
        },
        "id": "eW1G3_J7q8xt",
        "outputId": "e10d845a-1ef0-4b6d-d691-639d50b11369"
      },
      "execution_count": null,
      "outputs": [
        {
          "output_type": "stream",
          "name": "stdout",
          "text": [
            "Predicted class: tensor([2])\n"
          ]
        }
      ]
    },
    {
      "cell_type": "markdown",
      "source": [
        "# Part 2"
      ],
      "metadata": {
        "id": "Qz0qqkD1mJu1"
      }
    },
    {
      "cell_type": "markdown",
      "source": [
        "### Weights\n",
        "Non_quantized_float, quantized_float, quantized_int weights"
      ],
      "metadata": {
        "id": "OLy-m7UEoHTd"
      }
    },
    {
      "cell_type": "code",
      "source": [
        "for name, module in scnn_model.named_modules():\n",
        "    if isinstance(module, qnn.QuantConv2d) and 'mainArch.1.conv' in name:\n",
        "        print(name)\n",
        "        fp32_weights = module.weight.detach().cpu().numpy()     # Non qunatized weight\n",
        "        break\n",
        "\n",
        "quant_weight_float = np.load(base_path + '/model_weights/quant_weight_float.npy')\n",
        "quant_weight_int = np.load(base_path + '/model_weights/quant_weight_int.npy')\n",
        "\n",
        "# print(fp32_weights.shape)\n",
        "# print(quant_weight_float.shape)\n",
        "print(quant_weight_int.shape)\n"
      ],
      "metadata": {
        "colab": {
          "base_uri": "https://localhost:8080/"
        },
        "id": "iMq8WEyXmMBk",
        "outputId": "53780294-ecac-41a0-f7d0-c329e748caa0"
      },
      "execution_count": null,
      "outputs": [
        {
          "output_type": "stream",
          "name": "stdout",
          "text": [
            "mainArch.1.conv\n",
            "(16, 8, 3, 3)\n"
          ]
        }
      ]
    },
    {
      "cell_type": "markdown",
      "source": [
        "### Functions"
      ],
      "metadata": {
        "id": "UynZO14iMPBf"
      }
    },
    {
      "cell_type": "code",
      "source": [
        "def save_output_for_vhdl(output, file_path):\n",
        "    with open(file_path + '.txt', 'w') as f:\n",
        "        total_elements = output.numel()\n",
        "        zero_elements = torch.sum(output == 0).item()\n",
        "        sparsity = (zero_elements / total_elements) *100\n",
        "        f.write(f\"Sparsity: {sparsity}\\n\")\n",
        "\n",
        "        output_np = output.detach().cpu().numpy()\n",
        "        num_channels = output_np.shape[0]\n",
        "\n",
        "        for channel_idx in range(num_channels):\n",
        "            channel_data = output_np[channel_idx, :, :]\n",
        "            f.write(f\"Channel {channel_idx}:\\n\")\n",
        "            np.savetxt(f, channel_data, fmt='%.6f')\n",
        "            f.write(\"\\n\")\n",
        "\n",
        "        # Save output as numpy file\n",
        "        np.save(file_path + '.npy', output_np)"
      ],
      "metadata": {
        "id": "E4PYzMGvvqDl"
      },
      "execution_count": null,
      "outputs": []
    },
    {
      "cell_type": "markdown",
      "source": [
        "### LIF"
      ],
      "metadata": {
        "id": "B3Y4tNDG0hro"
      }
    },
    {
      "cell_type": "code",
      "source": [
        "output_path = base_path + '/input_output/'\n",
        "os.makedirs(output_path, exist_ok=True)\n",
        "\n",
        "for step in range(spike_encoded_input.shape[0]):\n",
        "    in_spk_file_path = os.path.join(output_path, 'in_spk_8b'+ str(step))\n",
        "    save_output_for_vhdl(spike_encoded_input[step], in_spk_file_path)\n",
        "\n",
        "for step in range(spike_output.shape[0]):\n",
        "  out_spk_file_path = os.path.join(output_path, 'out_spk_8b'+ str(step))\n",
        "  save_output_for_vhdl(spike_output[step], out_spk_file_path)"
      ],
      "metadata": {
        "id": "Mfj-31vSod0A"
      },
      "execution_count": null,
      "outputs": []
    },
    {
      "cell_type": "code",
      "source": [
        "def apply_lif_neurons(input_data, weights, threshold= 1.0, beta=1, reset_value=0.0):\n",
        "    # Assuming input_data shape is (time, channels, height, width)\n",
        "    time_steps = input_data.shape[0]\n",
        "\n",
        "    # Determine output shape after convolution\n",
        "    output_shape = (time_steps, weights.shape[0],  # (time, output_channels, height, width)\n",
        "                    input_data.shape[2] - weights.shape[2] + 1,\n",
        "                    input_data.shape[3] - weights.shape[3] + 1)\n",
        "\n",
        "    # if isinstance(thresholds, (float, int)):\n",
        "    #     thresholds = np.full(time_steps, thresholds)  # If a single threshold is given, replicate it across all timesteps\n",
        "\n",
        "    # Initialize output spikes\n",
        "    output_spikes = np.zeros(output_shape)  # Shape: (time, output_channels, height, width)\n",
        "\n",
        "\n",
        "    # Initialize membrane potential for this timestep\n",
        "    membrane_potential = np.zeros((time_steps, weights.shape[0], output_shape[2], output_shape[3]))  # Shape: (output_channels, height, width)\n",
        "\n",
        "    # Perform convolution for the current timestep\n",
        "    for out_channel in range(output_shape[1]):\n",
        "        for i in range(output_shape[2]):\n",
        "            for j in range(output_shape[3]):\n",
        "              for t in range(time_steps):\n",
        "                # Calculate convolution output at this stride\n",
        "                conv_output = np.sum(input_data[t, :, i:i+weights.shape[2], j:j+weights.shape[3]] * weights[out_channel])\n",
        "\n",
        "                # Update membrane potential with leaky integration\n",
        "                if t == 0:\n",
        "                  membrane_potential[t, out_channel, i, j] = beta * membrane_potential[t, out_channel, i, j] + conv_output\n",
        "                else:\n",
        "                  membrane_potential[t, out_channel, i, j] = beta * membrane_potential[t-1, out_channel, i, j] + conv_output\n",
        "\n",
        "                # Generate spike if membrane potential exceeds threshold\n",
        "                if membrane_potential[t, out_channel, i, j] >= threshold:\n",
        "                    output_spikes[t, out_channel, i, j] = 1\n",
        "                    # Reset membrane potential where spike occurred\n",
        "                    # membrane_potential[t,out_channel, i, j] = membrane_potential[t,out_channel, i, j]-threshold\n",
        "                    membrane_potential[t,out_channel, i, j] = reset_value\n",
        "\n",
        "    return output_spikes, membrane_potential\n"
      ],
      "metadata": {
        "id": "QshSczQwEcrS"
      },
      "execution_count": null,
      "outputs": []
    },
    {
      "cell_type": "markdown",
      "source": [
        "### Analysis"
      ],
      "metadata": {
        "id": "dvBvS1ln0kzm"
      }
    },
    {
      "cell_type": "code",
      "source": [
        "# input_data = spike_encoded_input.numpy()\n",
        "# output_spikes, membrane_potential = apply_lif_neurons(input_data, fp32_weights, threshold= 1.0)\n",
        "\n",
        "# input_data = spike_encoded_input.numpy()\n",
        "# output_spikes, membrane_potential = apply_lif_neurons(input_data, quant_weight_float, threshold= 1.0)\n",
        "\n",
        "input_data = spike_encoded_input.numpy()\n",
        "# output_spikes, membrane_potential = apply_lif_neurons(input_data, quant_weight_int, threshold= 101.0101)\n",
        "output_spikes, membrane_potential = apply_lif_neurons(input_data, quant_weight_int, threshold= 101)"
      ],
      "metadata": {
        "id": "twTM5Yl30_cT"
      },
      "execution_count": null,
      "outputs": []
    },
    {
      "cell_type": "code",
      "source": [
        "print(output_spikes[2])"
      ],
      "metadata": {
        "colab": {
          "base_uri": "https://localhost:8080/"
        },
        "id": "tC6AQmVOxtk5",
        "outputId": "c868a762-ac1b-4d36-cecc-b182faafcf50"
      },
      "execution_count": null,
      "outputs": [
        {
          "output_type": "stream",
          "name": "stdout",
          "text": [
            "[[[0. 0. 0.]\n",
            "  [0. 0. 0.]\n",
            "  [0. 0. 0.]]\n",
            "\n",
            " [[0. 0. 0.]\n",
            "  [1. 0. 0.]\n",
            "  [0. 0. 1.]]\n",
            "\n",
            " [[0. 0. 0.]\n",
            "  [0. 0. 0.]\n",
            "  [0. 0. 0.]]\n",
            "\n",
            " [[0. 0. 0.]\n",
            "  [0. 0. 0.]\n",
            "  [0. 0. 0.]]\n",
            "\n",
            " [[0. 0. 0.]\n",
            "  [0. 1. 0.]\n",
            "  [0. 1. 0.]]\n",
            "\n",
            " [[0. 0. 0.]\n",
            "  [0. 0. 0.]\n",
            "  [0. 0. 0.]]\n",
            "\n",
            " [[0. 0. 0.]\n",
            "  [0. 0. 1.]\n",
            "  [0. 0. 0.]]\n",
            "\n",
            " [[0. 1. 0.]\n",
            "  [1. 1. 0.]\n",
            "  [0. 1. 1.]]\n",
            "\n",
            " [[0. 0. 0.]\n",
            "  [0. 0. 0.]\n",
            "  [0. 0. 0.]]\n",
            "\n",
            " [[0. 0. 0.]\n",
            "  [1. 0. 0.]\n",
            "  [1. 0. 0.]]\n",
            "\n",
            " [[0. 0. 1.]\n",
            "  [0. 0. 0.]\n",
            "  [0. 0. 0.]]\n",
            "\n",
            " [[1. 0. 1.]\n",
            "  [1. 0. 1.]\n",
            "  [1. 0. 1.]]\n",
            "\n",
            " [[1. 1. 0.]\n",
            "  [1. 1. 0.]\n",
            "  [1. 1. 0.]]\n",
            "\n",
            " [[0. 0. 1.]\n",
            "  [0. 0. 0.]\n",
            "  [0. 0. 0.]]\n",
            "\n",
            " [[0. 0. 0.]\n",
            "  [0. 0. 0.]\n",
            "  [0. 0. 0.]]\n",
            "\n",
            " [[0. 0. 0.]\n",
            "  [0. 0. 0.]\n",
            "  [0. 0. 0.]]]\n"
          ]
        }
      ]
    },
    {
      "cell_type": "code",
      "source": [
        "def conv_results(row, col, channel):\n",
        "  conv_output = input_data[0, :, row:row+quant_weight_int.shape[2], col:col+quant_weight_int.shape[3]] * quant_weight_int[channel]\n",
        "  print(np.sum(conv_output))\n",
        "  conv_output = input_data[1, :, row:row+quant_weight_int.shape[2], col:col+quant_weight_int.shape[3]] * quant_weight_int[channel]\n",
        "  print(np.sum(conv_output))\n",
        "  conv_output = input_data[2, :, row:row+quant_weight_int.shape[2], col:col+quant_weight_int.shape[3]] * quant_weight_int[channel]\n",
        "  print(np.sum(conv_output))\n",
        "\n",
        "conv_results(1, 1, 14)\n",
        "\n",
        "# conv_output = input_data[1, :, 2:2+quant_weight_int.shape[2], 2:2+quant_weight_int.shape[3]] * quant_weight_int[0]\n",
        "# # print(conv_output)\n",
        "# print(np.sum(conv_output))"
      ],
      "metadata": {
        "colab": {
          "base_uri": "https://localhost:8080/"
        },
        "id": "q7B-P0wKJCdF",
        "outputId": "76255266-40a5-4e3e-d268-b0daf86fe518"
      },
      "execution_count": null,
      "outputs": [
        {
          "output_type": "stream",
          "name": "stdout",
          "text": [
            "22.0\n",
            "-31.0\n",
            "21.0\n"
          ]
        }
      ]
    },
    {
      "cell_type": "code",
      "source": [
        "# print(membrane_potential[1])"
      ],
      "metadata": {
        "id": "lCLfqQMHwWyi"
      },
      "execution_count": null,
      "outputs": []
    },
    {
      "cell_type": "code",
      "source": [
        "print(np.array_equal(output_spikes[0], spike_output[0]))"
      ],
      "metadata": {
        "colab": {
          "base_uri": "https://localhost:8080/"
        },
        "id": "ROMIq7hqEkYv",
        "outputId": "cdc25c8b-0094-459b-b714-1b072f63d316"
      },
      "execution_count": null,
      "outputs": [
        {
          "output_type": "stream",
          "name": "stdout",
          "text": [
            "True\n"
          ]
        }
      ]
    },
    {
      "cell_type": "code",
      "source": [
        "print(np.array_equal(output_spikes[1], spike_output[1]))"
      ],
      "metadata": {
        "colab": {
          "base_uri": "https://localhost:8080/"
        },
        "id": "C9G6qkox5CjX",
        "outputId": "7ad4b36d-f694-413a-8ff5-81f2e4e31164"
      },
      "execution_count": null,
      "outputs": [
        {
          "output_type": "stream",
          "name": "stdout",
          "text": [
            "True\n"
          ]
        }
      ]
    },
    {
      "cell_type": "code",
      "source": [
        "print(np.array_equal(output_spikes[2], spike_output[2]))"
      ],
      "metadata": {
        "colab": {
          "base_uri": "https://localhost:8080/"
        },
        "id": "skYsCh3j_juD",
        "outputId": "e8d980d0-6b07-4284-98d7-35f64c285f4d"
      },
      "execution_count": null,
      "outputs": [
        {
          "output_type": "stream",
          "name": "stdout",
          "text": [
            "True\n"
          ]
        }
      ]
    },
    {
      "cell_type": "markdown",
      "source": [
        "# Part3"
      ],
      "metadata": {
        "id": "IFmD_lyxS65c"
      }
    },
    {
      "cell_type": "markdown",
      "source": [
        "## Format weights"
      ],
      "metadata": {
        "id": "UKCJ6mJITCb0"
      }
    },
    {
      "cell_type": "code",
      "source": [
        "# Path to the directory where you want to save the file\n",
        "save_dir = base_path + '/model_weights/'\n",
        "\n",
        "# Create the directory if it doesn't exist\n",
        "os.makedirs(save_dir, exist_ok=True)\n",
        "qweights_file_path = os.path.join(save_dir, 'scnn_quant8b_weight_int.txt')\n",
        "\n",
        "# Save the weights to the text file in Google Drive\n",
        "with open(qweights_file_path, 'w') as f:\n",
        "  out_channels, in_channels, kernel_height, kernel_width = quant_weight_int.shape\n",
        "  f.write(f\"#{name}\\n\")\n",
        "  f.write(f\"#{quant_weight_int.shape}\\n\")\n",
        "  for out_ch in range(out_channels):\n",
        "      for in_ch in range(in_channels):\n",
        "          f.write(f\"Kernel {out_ch}-{in_ch}:\\n\")\n",
        "          kernel_weights = quant_weight_int[out_ch, in_ch]\n",
        "          for row in kernel_weights:\n",
        "              f.write(' '.join(map(str, row)) + '\\n')\n",
        "          f.write('\\n')\n",
        "\n",
        "print(f\"Weights saved to {qweights_file_path}\")"
      ],
      "metadata": {
        "colab": {
          "base_uri": "https://localhost:8080/"
        },
        "id": "2R_qCKz8S8m1",
        "outputId": "f61222a9-272e-4d33-ee6c-7aa643ff8edb"
      },
      "execution_count": null,
      "outputs": [
        {
          "output_type": "stream",
          "name": "stdout",
          "text": [
            "Weights saved to /content/drive/My Drive/project_aug/v4/model_weights/scnn_quant8b_weight_int.txt\n"
          ]
        }
      ]
    },
    {
      "cell_type": "code",
      "source": [],
      "metadata": {
        "id": "tFR-pkvuJu4N"
      },
      "execution_count": null,
      "outputs": []
    }
  ]
}