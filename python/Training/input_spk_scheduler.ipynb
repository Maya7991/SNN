{
 "cells": [
  {
   "cell_type": "markdown",
   "metadata": {
    "id": "H8mu9DSjUMbg"
   },
   "source": [
    "## Schedule data\n",
    "Schedule the input spikes to the SNN appropriately for a 3x3 Kernal sweep\n",
    "\n",
    "\n",
    "*   Padding = 0\n",
    "*   Stride = 1\n",
    "*   Kernal = 3x3\n",
    "\n"
   ]
  },
  {
   "cell_type": "code",
   "execution_count": null,
   "metadata": {
    "colab": {
     "base_uri": "https://localhost:8080/"
    },
    "id": "QUBB6uirCHT4",
    "outputId": "63879709-4a09-4776-b34b-af5808cf0173"
   },
   "outputs": [
    {
     "name": "stdout",
     "output_type": "stream",
     "text": [
      "Mounted at /content/drive\n"
     ]
    }
   ],
   "source": [
    "import os\n",
    "import numpy as np\n",
    "from google.colab import drive\n",
    "drive.mount('/content/drive')"
   ]
  },
  {
   "cell_type": "markdown",
   "metadata": {
    "id": "yqrEHepIjmxD"
   },
   "source": [
    "### Kernel wise sweep of data"
   ]
  },
  {
   "cell_type": "code",
   "execution_count": null,
   "metadata": {
    "colab": {
     "base_uri": "https://localhost:8080/"
    },
    "id": "dej-C7WdCJ-X",
    "outputId": "ed3feb09-b82d-4660-b9ed-c08f5eb0c8fb"
   },
   "outputs": [
    {
     "name": "stdout",
     "output_type": "stream",
     "text": [
      "Scheduled data has been written to /content/drive/My Drive/project_aug/v4/input_output_v5/inspk_8b_schedld0.txt\n"
     ]
    }
   ],
   "source": [
    "# Read the multi-channel data from the input file\n",
    "def read_input_data(file_path):\n",
    "    channels = []\n",
    "    current_channel = []\n",
    "    with open(file_path, 'r') as f:\n",
    "        for line in f:\n",
    "            stripped_line = line.strip()\n",
    "            if stripped_line.startswith(\"Sparsity:\"):\n",
    "                continue  # Skip the sparsity line\n",
    "            if stripped_line.startswith(\"Channel\"):\n",
    "                if current_channel:\n",
    "                    channels.append(np.array(current_channel))\n",
    "                    current_channel = []\n",
    "            elif stripped_line:\n",
    "                row = list(map(float, stripped_line.split()))\n",
    "                current_channel.append(row)\n",
    "        if current_channel:\n",
    "            channels.append(np.array(current_channel))\n",
    "    return channels\n",
    "\n",
    "# Add padding to the data to make it 16x16\n",
    "def pad_data(data, pad_width=1):\n",
    "    return np.pad(data, pad_width=pad_width, mode='constant', constant_values=0)\n",
    "\n",
    "# Prepare the data scheduling\n",
    "def schedule_data(padded_data, kernel_size=3, stride=1):\n",
    "    rows, cols = padded_data.shape\n",
    "    schedule = []\n",
    "\n",
    "    for i in range(0, rows - kernel_size + 1, stride):\n",
    "        for j in range(0, cols - kernel_size + 1, stride):\n",
    "            window = padded_data[i:i + kernel_size, j:j + kernel_size].flatten()\n",
    "            schedule.append(window)\n",
    "\n",
    "    return np.array(schedule, dtype=int)  # Convert to integers\n",
    "\n",
    "def write_scheduled_data(file_path, scheduled_data):\n",
    "    with open(file_path, 'w') as f:\n",
    "        for channel_idx, channel_data in enumerate(scheduled_data):\n",
    "            f.write(f'Channel {channel_idx}:\\n')\n",
    "            for row in channel_data:\n",
    "                f.write(' '.join(map(str, row)) + '\\n')\n",
    "\n",
    "# Main function to execute the steps\n",
    "def main(input_file_path, output_file_path):\n",
    "    channels = read_input_data(input_file_path)\n",
    "    scheduled_channels = []\n",
    "\n",
    "    for channel in channels:\n",
    "        # padded_data = pad_data(channel)\n",
    "        scheduled_data = schedule_data(channel)\n",
    "        scheduled_channels.append(scheduled_data)\n",
    "\n",
    "    write_scheduled_data(output_file_path, scheduled_channels)\n",
    "    print(f\"Scheduled data has been written to {output_file_path}\")\n"
   ]
  },
  {
   "cell_type": "code",
   "execution_count": null,
   "metadata": {
    "id": "4Sh-hJ3vHcQm"
   },
   "outputs": [],
   "source": [
    "base_path = '/content/drive/My Drive/project_aug/v4'\n",
    "\n",
    "timesteps = 3\n",
    "\n",
    "# call the main function\n",
    "for timestep in range(timesteps):\n",
    "  input_file_path = base_path + f'/input_output_v5/in_spk_8b{timestep}.txt'\n",
    "  output_file_path = base_path + f'/input_output_v5/inspk_8b_schedld{timestep}.txt'\n",
    "  main(input_file_path, output_file_path)"
   ]
  },
  {
   "cell_type": "code",
   "execution_count": null,
   "metadata": {
    "id": "kbs4loK3-NVR"
   },
   "outputs": [],
   "source": [
    "# # Read the uploaded file\n",
    "# input_filename = base_path + '/input_output_v5/inspk_8b_schedld0.txt'\n",
    "\n",
    "# def read_file(filename):\n",
    "#     with open(filename, 'r') as file:\n",
    "#         data = file.readlines()\n",
    "#     return data\n",
    "\n",
    "# data = read_file(input_filename)\n",
    "\n",
    "# # Parse the data into a dictionary of channels\n",
    "# def parse_data(data):\n",
    "#     channels = {}\n",
    "#     current_channel = None\n",
    "\n",
    "#     for line in data:\n",
    "#         if line.startswith(\"Channel\"):\n",
    "#             current_channel = int(line.split()[1].strip(':'))\n",
    "#             channels[current_channel] = []\n",
    "#         elif current_channel is not None:\n",
    "#             spikes = list(map(int, line.split()))\n",
    "#             channels[current_channel].append(spikes)\n",
    "\n",
    "#     return channels\n",
    "\n",
    "# channels = parse_data(data)\n",
    "\n",
    "# # Transform the data into the desired format\n",
    "# def transform_data(channels):\n",
    "#     transformed = []\n",
    "#     num_channels = len(channels)\n",
    "#     num_cycles = len(channels[0])\n",
    "\n",
    "#     for i in range(num_cycles):\n",
    "#         for j in range(len(channels[0][i])):\n",
    "#             row = []\n",
    "#             for ch in range(num_channels):\n",
    "#                 row.append(channels[ch][i][j])\n",
    "#             transformed.append(row)\n",
    "\n",
    "#     return transformed\n",
    "\n",
    "# transformed_data = transform_data(channels)\n",
    "# # Write the transformed data to a new file\n",
    "# output_filename =  base_path + '/input_output_v5/inspk_8b_vhdl0.txt'\n",
    "\n",
    "# def write_file(filename, data):\n",
    "#     with open(filename, 'w') as file:\n",
    "#         for row in data:\n",
    "#             file.write(''.join(map(str, row)) + '\\n')\n",
    "\n",
    "# write_file(output_filename, transformed_data)"
   ]
  }
 ],
 "metadata": {
  "colab": {
   "provenance": []
  },
  "kernelspec": {
   "display_name": "Python 3",
   "name": "python3"
  },
  "language_info": {
   "name": "python"
  }
 },
 "nbformat": 4,
 "nbformat_minor": 0
}
